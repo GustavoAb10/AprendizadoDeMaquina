{
  "nbformat": 4,
  "nbformat_minor": 0,
  "metadata": {
    "colab": {
      "name": "Atividade 1.1 - Aprendizado de Máquina.ipynb",
      "provenance": [],
      "collapsed_sections": [],
      "include_colab_link": true
    },
    "kernelspec": {
      "name": "python3",
      "display_name": "Python 3"
    },
    "language_info": {
      "name": "python"
    }
  },
  "cells": [
    {
      "cell_type": "markdown",
      "metadata": {
        "id": "view-in-github",
        "colab_type": "text"
      },
      "source": [
        "<a href=\"https://colab.research.google.com/github/GustavoAb10/AprendizadoDeMaquina/blob/main/Atividade_1_1_Aprendizado_de_M%C3%A1quina.ipynb\" target=\"_parent\"><img src=\"https://colab.research.google.com/assets/colab-badge.svg\" alt=\"Open In Colab\"/></a>"
      ]
    },
    {
      "cell_type": "markdown",
      "source": [
        "## Parte 1: Exercícios Teóricos\n",
        "\n",
        "Na maior parte das atividades teremos 2 partes: \n",
        "\n",
        "- Uma com exercícios teóricos, envolvendo as questões conceituas de algorimos e simulações manuais. \n",
        "\n",
        "  - Estes exercícios são baseados no livro \"Introduction to Statistical Learning\" e devem ser realizados após a leitura do capítulo correspondente. \n",
        "\n",
        "- Outra contendo exercícios práticos, com códigos em Python\n",
        "\n",
        "  - Devem ser feitos após realizar as atividades e leituras propostas nas aulas.\n",
        "\n",
        "---\n",
        "\n",
        "***IMPORTANTE:*** Para entregar a tarefa, vocês deverão fazer o download do arquivo .ipynb clicando em Arquivo $→$ Fazer Download, e enviar o arquivo baixado usando o Moodle. \n",
        "\n",
        "---"
      ],
      "metadata": {
        "id": "IyWmTuuYjRCP"
      }
    },
    {
      "cell_type": "markdown",
      "source": [
        "### Exercício 1.1 - [2 pontos]\n",
        "\n",
        "Para cada exemplo abaixo, indique se o problema é:\n",
        "\n",
        "i. predição ou inferência\n",
        "\n",
        "ii. regressão, classificação, ou agrupamento\n",
        "\n",
        "iii. supervisionado ou não-supervisionado\n",
        "\n",
        "iv. quais os valores de `n` (número de exemplos) e `p` (número de atributos)\n",
        "\n",
        "Justifique cada resposta.\n"
      ],
      "metadata": {
        "id": "ijBabNR_b8yV"
      }
    },
    {
      "cell_type": "markdown",
      "source": [
        "a) Coletamos os dados de 1000 empresas e, para cada uma delas, coletamos dados de receita, lucro, número de empregados, indústria, crescimento e salário do presidente. \n",
        "\n",
        "Queremos criar um modelo para obter mais informações sobre quais dos fatores coletados influenciam o salário do presidente."
      ],
      "metadata": {
        "id": "599pihbrlzXc"
      }
    },
    {
      "cell_type": "markdown",
      "source": [
        "**Resposta:**\n",
        "\n",
        "*i.*\n",
        "\n",
        "*ii.*\n",
        "\n",
        "*iii.*\n",
        "\n",
        "*iv.*\n"
      ],
      "metadata": {
        "id": "_En3Fpx8l5G4"
      }
    },
    {
      "cell_type": "markdown",
      "source": [
        "b) Uma empresa quer lançar um novo produto e deseja saber se o produto será um sucesso ou não.\n",
        "\n",
        "Eles coletaram dados de 20 produtos similares que foram lançados anteriormente, coletando se ele foi um sucesso ou fracasso, o preço cobrado, gasto com propaganda, preço dos concorrentes e outras 10 variáveis."
      ],
      "metadata": {
        "id": "VS1jQbpLmHUu"
      }
    },
    {
      "cell_type": "markdown",
      "source": [
        "**Resposta:**\n",
        "\n",
        "*i.*\n",
        "\n",
        "*ii.*\n",
        "\n",
        "*iii.*\n",
        "\n",
        "*iv.*\n"
      ],
      "metadata": {
        "id": "cImfwDOcmHUv"
      }
    },
    {
      "cell_type": "markdown",
      "source": [
        "c) Queremos identificar se um paciente está propenso a ter problemas cardiovasculares a partir de um grupo de indicadores de risco. \n",
        "\n",
        "Coletamos os dados de 1000 pacientes, com a informação se eles tiveram ou não problemas cardiovasculares, e com os seguintes indicadores:\n",
        "- Idade\n",
        "- Altura\n",
        "- Peso\n",
        "- Sexo\n",
        "- Triglicerídeos\n",
        "- Pressão arterial (máximo)\n",
        "- Pressão arterial (mínimo)\n",
        "- Colesterol\n",
        "- Nível de atividade física\n",
        "- Frequência de uso de tabaco \n",
        "- Frequência de abuso de bebidas álcoolicas\n",
        "\n"
      ],
      "metadata": {
        "id": "xpiQcdFEmHpf"
      }
    },
    {
      "cell_type": "markdown",
      "source": [
        "**Resposta:**\n",
        "\n",
        "*i.*\n",
        "\n",
        "*ii.*\n",
        "\n",
        "*iii.*\n",
        "\n",
        "*iv.*\n"
      ],
      "metadata": {
        "id": "6NteGKI_mHpg"
      }
    },
    {
      "cell_type": "markdown",
      "source": [
        "d) Uma rede de supermecados deseja identificar diferentes perfis de consumidores para realizar uma campanha comercial. Para tal, ela possui os seguintes dados de 10.000 consumidores, obtidos por meio de seu programa de recompensas:\n",
        "\n",
        "- Idade\n",
        "- Sexo\n",
        "- Frequência de Compras em lojas físicas\n",
        "- Frequência de Compras na loja virtual\n",
        "- Valor Médio das compras\n",
        "- Frequencia de Compras em cada uma de 10 categorias de itens\n",
        "- Gasto Médio em cada uma de 10 categorias de itens"
      ],
      "metadata": {
        "id": "RRRJPAuEmIAR"
      }
    },
    {
      "cell_type": "markdown",
      "source": [
        "**Resposta:**\n",
        "\n",
        "*i.*\n",
        "\n",
        "*ii.*\n",
        "\n",
        "*iii.*\n",
        "\n",
        "*iv.*\n"
      ],
      "metadata": {
        "id": "vSF_DERxmIAR"
      }
    },
    {
      "cell_type": "markdown",
      "source": [
        "---\n",
        "### Exercício 1.2 - [3 pontos]\n",
        "\n",
        "Trabalharemos agora com exemplos do mundo real. A ideia é que você pense em aplicações de aprendizado de máquina.\n"
      ],
      "metadata": {
        "id": "AOqILrmzc54F"
      }
    },
    {
      "cell_type": "markdown",
      "source": [
        "a) Descreva três aplicações da vida real onde a classificação pode ser útil. Na resposta, indique quais são os preditores e se o objetivo é realiza inferência ou predição."
      ],
      "metadata": {
        "id": "voes7DgPr2bF"
      }
    },
    {
      "cell_type": "markdown",
      "source": [
        "**Resposta:**\n",
        "\n",
        "1.\n",
        "\n",
        "2.\n",
        "\n",
        "3."
      ],
      "metadata": {
        "id": "LQyqaXSDr2yz"
      }
    },
    {
      "cell_type": "markdown",
      "source": [
        "b) Descreva três aplicações da vida real onde a *regressão* pode ser útil. Na resposta, indique quais são os preditores e se o objetivo é realiza inferência ou predição."
      ],
      "metadata": {
        "id": "MvIwYgzZsLVm"
      }
    },
    {
      "cell_type": "markdown",
      "source": [
        "**Resposta:**\n",
        "\n",
        "1.\n",
        "\n",
        "2.\n",
        "\n",
        "3."
      ],
      "metadata": {
        "id": "01_UgOIFsLVn"
      }
    },
    {
      "cell_type": "markdown",
      "source": [
        "c) Descreva três aplicações da vida real onde análise for agrupamento pode ser útil. Indique quais os preditores em cada caso."
      ],
      "metadata": {
        "id": "9KAMK55lsLtG"
      }
    },
    {
      "cell_type": "markdown",
      "source": [
        "**Resposta:**\n",
        "\n",
        "1.\n",
        "\n",
        "2.\n",
        "\n",
        "3."
      ],
      "metadata": {
        "id": "kOFlMWWksLtH"
      }
    },
    {
      "cell_type": "markdown",
      "source": [
        "---\n",
        "### Exercício 1.3 - [1 ponto]\n",
        "\n",
        "Veremos agora sobre modos de avaliar o desempenho de um modelo. Suponha que você treinou um modelo de regressão e um de classificação sobre um conjunto de dados de treino. Ao realizar os testes, obteve os seguintes resultados, onde Y é o valor alvo, e Modelo é a saída do seu modelo:\n",
        "\n",
        "Regressão:\n",
        "\n",
        "Observação |  Y (alvo)  | Saída do Modelo\n",
        "-----------|------------|-------------------\n",
        "1          |   3.0     | 4.0\n",
        "2          |   5.0     | 7.0\n",
        "3          |   1.0     | 4.0\n",
        "4          |   -2.0    | -5.0\n",
        "5          |   10.0    | 5.0\n",
        "\n",
        "Classificação:\n",
        "\n",
        "Observação |  Y (alvo)  | Saída do Modelo\n",
        "-----------| -------|-------------------\n",
        "1          |   azul     | vermelho\n",
        "2          |   azul     | azul\n",
        "3          |   vermelho | azul\n",
        "4          |   azul     | azul\n",
        "5          |   vermelho | vermelho\n",
        "\n",
        "\n",
        "\n",
        "\n"
      ],
      "metadata": {
        "id": "jbwdiQn4fRCm"
      }
    },
    {
      "cell_type": "markdown",
      "source": [
        "\n",
        "a) Qual o erro (MSE) do modelo no caso da regressão para cada entrada?\n",
        "\n",
        "Indique quais as contas realizadas. Exemplo: $\\sqrt{2^2 + 3^2} = 4$"
      ],
      "metadata": {
        "id": "vNDTfXZ_oRPV"
      }
    },
    {
      "cell_type": "markdown",
      "source": [
        "**Resposta:**"
      ],
      "metadata": {
        "id": "H2SpXmhUxXZp"
      }
    },
    {
      "cell_type": "markdown",
      "source": [
        "b) Qual o erro (Taxa de acerto) do modelo no caso da classificação para cada entrada?\n",
        "\n",
        "Indique quais as contas realizadas."
      ],
      "metadata": {
        "id": "Hs-UBRuIxZiS"
      }
    },
    {
      "cell_type": "markdown",
      "source": [
        "**Resposta:**"
      ],
      "metadata": {
        "id": "QYvbtOtSxZiT"
      }
    },
    {
      "cell_type": "markdown",
      "source": [
        "---\n",
        "## Parte 2: Exercícios Práticos com Python"
      ],
      "metadata": {
        "id": "5VA-yAY1hTrD"
      }
    },
    {
      "cell_type": "markdown",
      "source": [
        "### Exercício 2.1 - [2 pontos]\n",
        "Baixe o conjunto de dados `sklearn.datasets.fetch_california_housing` do scikit-learn, no formato **Pandas**, conforme exemplo visto em aula.\n",
        "\n",
        "https://scikit-learn.org/stable/datasets/real_world.html\n",
        "\n",
        "--\n",
        "\n",
        "Em seguida, gere 8 histogramas, um para cada atributo, colocando-os em uma grade de 2 linhas 4 colunas. Utilize o comando `plt.subplot`.\n",
        "\n",
        "Escolha um número de bins adequado para cada gráfico, de modo a permitir uma boa visualização dos dados. Não esqueça também de indicar o conteúdo de cada eixo de cada gráfico.\n",
        "\n",
        "--\n",
        "\n",
        "No link abaixo o autor colocou exemplos de como utilizar o comando `plt.subplot`:\n",
        "\n",
        "https://www.geeksforgeeks.org/multiplots-in-python-using-matplotlib/\n"
      ],
      "metadata": {
        "id": "CyXjpBOihZ94"
      }
    },
    {
      "cell_type": "code",
      "execution_count": null,
      "metadata": {
        "id": "EM2E6WjoZoUt"
      },
      "outputs": [],
      "source": [
        ""
      ]
    },
    {
      "cell_type": "markdown",
      "source": [
        ""
      ],
      "metadata": {
        "id": "DlpTe1XNjNMu"
      }
    },
    {
      "cell_type": "markdown",
      "source": [
        "### Exercício 2.2 - [2 pontos]\n",
        "\n",
        "Como o mesmo conjunto de dados, gere agora os gráficos de dispersão para as 8 categorias. Organize-os de forma similar aos do item 2.1."
      ],
      "metadata": {
        "id": "ViB-C__Mgcal"
      }
    },
    {
      "cell_type": "code",
      "source": [
        ""
      ],
      "metadata": {
        "id": "oROXCCM4hxEu"
      },
      "execution_count": null,
      "outputs": []
    },
    {
      "cell_type": "markdown",
      "source": [
        "A partir dos gráficos gerados, quais dos atributos parecem possuir uma correlação com o preço das casas? Justifique sua resposta."
      ],
      "metadata": {
        "id": "wh1YWhz_b7PI"
      }
    },
    {
      "cell_type": "markdown",
      "source": [
        "**Resposta:** "
      ],
      "metadata": {
        "id": "UrQeYRJ0hxj9"
      }
    }
  ]
}